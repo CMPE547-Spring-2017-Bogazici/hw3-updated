{
 "cells": [
  {
   "cell_type": "markdown",
   "metadata": {},
   "source": [
    "Name: [Sevgi Öztürk]\n",
    "\n",
    "I hereby declare that I observed the honour code of the university when preparing the homework."
   ]
  },
  {
   "cell_type": "markdown",
   "metadata": {},
   "source": [
    "## Pr?gr?mm?ng?H?m?w?rk 3\n",
    "\n",
    "In this exercise we model a string of text using a Markov(1) model. For simplicity we only consider letters 'a-z'. Capital letters 'A-Z' are mapped to the corresponding ones. All remaining letters, symbols, numbers, including spaces, are denoted by '.'.\n",
    "\n",
    "\n",
    "We have a probability table $T$ where $T_{i,j} = p(x_t = j | x_{t-1} = i)$  transition model of letters in English text for $t=1,2 \\dots N$. Assume that the initial letter in a string is always a space denoted as $x_0 = \\text{'.'}$. Such a model where the probability table is always the same is sometimes called a stationary model.\n",
    "\n",
    "1. For a given $N$, write a program to sample random strings with letters $x_1, x_2, \\dots, x_N$ from $p(x_{1:N}|x_0)$\n",
    "1. Now suppose you are given strings with missing letters, where each missing letter is denoted by a question mark (or underscore, as below). Implement a method, that samples missing letters conditioned on observed ones, i.e., samples from $p(x_{-\\alpha}|x_{\\alpha})$ where $\\alpha$ denotes indices of observed letters. For example, if the input is 't??.', we have $N=4$ and\n",
    "$x_1 = \\text{'t'}$ and $x_4 = \\text{'.'}$, $\\alpha=\\{1,4\\}$ and $-\\alpha=\\{2,3\\}$. Your program may possibly generate the strings 'the.', 'twi.', 'tee.', etc. Hint: make sure to make use all data given and sample from the correct distribution. Implement the method and print the results for the test strings below. \n",
    "1. Describe a method for filling in the gaps by estimating the most likely letter for each position. Hint: you need to compute\n",
    "$$\n",
    "x_{-\\alpha}^* = \\arg\\max_{x_{-\\alpha}} p(x_{-\\alpha}|x_{\\alpha})\n",
    "$$\n",
    "Implement the method and print the results for the following test strings along with the log-probability  $\\log p(x_{-\\alpha}^*,x_{\\alpha})$.\n",
    "1. Discuss how you can improve the model to get better estimations."
   ]
  },
  {
   "cell_type": "markdown",
   "metadata": {},
   "source": [
    "## Programming Solution\n",
    "\n",
    "$1$. For a given $N$, write a program to sample random strings with letters $x_1, x_2, \\dots, x_N$ from $p(x_{1:N}|x_0)$\n",
    "\n",
    "Since the only condition is to start with $x_0$, bunch of chars are generated directly from transition table $p$"
   ]
  },
  {
   "cell_type": "code",
   "execution_count": 7,
   "metadata": {
    "collapsed": false
   },
   "outputs": [
    {
     "name": "stdout",
     "output_type": "stream",
     "text": [
      ".wnnd.qndm\n",
      ".pjxyezhrt\n",
      ".fmorkmrzc\n",
      ".qrbttvrqi\n",
      ".qnoklamgg\n",
      ".tyvairubu\n",
      ".tevpmfhaj\n",
      ".govvigohr\n",
      ".hoirasrtg\n",
      ".yccizlkvp\n",
      ".ffcoieuoh\n",
      ".ibvbzgmze\n",
      ".ebrsguml.\n",
      ".knhwexxyz\n",
      ".jlwnxrfsc\n",
      ".lotrxernh\n",
      ".hpevazc.e\n",
      ".kibwqojht\n",
      ".yngdyqtss\n"
     ]
    }
   ],
   "source": [
    "import csv\n",
    "import numpy as np\n",
    "import functools as fnt\n",
    "from IPython.display import display, Latex\n",
    "\n",
    "def dotProdWCount(i, j):\n",
    "    count = abs(i-j)-1\n",
    "    if count==0:\n",
    "        return arrT\n",
    "    elif count>0:\n",
    "        newArrT = arrT\n",
    "        for k in range(0,count):\n",
    "            newArrT = np.dot(newArrT,arrT)\n",
    "        return newArrT\n",
    "    elif count<0: # only if string finished with an unknown\n",
    "        return 1\n",
    "    \n",
    "alphRange = 27\n",
    "alphabet = [chr(indx+ord('a')) for indx in range(alphRange-1)]\n",
    "alphabet.append('.')\n",
    "letter2idx = {c:ind for ind,c in enumerate(alphabet)}\n",
    "\n",
    "T = []\n",
    "with open('transitions.csv') as csvfile:\n",
    "    reader = csv.reader(csvfile, delimiter=',')\n",
    "    for row in reader:\n",
    "        T.append(row)\n",
    "\n",
    "arrT = np.array([[float(y) for y in x] for x in T])\n",
    "\n",
    "ind = 26 # take . index as prior knowledge for x0\n",
    "lenStr = 10 # generate string of that length\n",
    "times = 20  # repeat the operation that times\n",
    "for i in range(1,times):\n",
    "    newToken = '.'\n",
    "    for j in range(1,lenStr):\n",
    "        matrix=dotProdWCount(0,j)\n",
    "        row = matrix[ind,:]\n",
    "        p = [row]            \n",
    "        ch = np.random.choice(alphabet,1, p)\n",
    "        newToken = newToken + ch[0]\n",
    "    print(newToken)"
   ]
  },
  {
   "cell_type": "markdown",
   "metadata": {},
   "source": [
    "$2$. Now suppose you are given strings with missing letters, where each missing letter is denoted by a question mark (or underscore, as below). Implement a method, that samples missing letters conditioned on observed ones, i.e., samples from $p(x_{-\\alpha}|x_{\\alpha})$ where $\\alpha$ denotes indices of observed letters. For example, if the input is 't??.', we have $N=4$ and\n",
    "$x_1 = \\text{'t'}$ and $x_4 = \\text{'.'}$, $\\alpha=\\{1,4\\}$ and $-\\alpha=\\{2,3\\}$. Your program may possibly generate the strings 'the.', 'twi.', 'tee.', etc. Hint: make sure to make use all data given and sample from the correct distribution. Implement the method and print the results for the test strings below.\n",
    "\n",
    "Since Markov(1) will be used as stated above, known characters will be regarded as prior knowledge to guess the new distribution of unknown characters. Dot character added to the beginning of example strings just in case they would start with unknown character '_'.\n",
    "For the first string example : $th__br__n.f_x.$\n",
    "$$p(x_3|x_2='h',x_5='b')= \\frac{p(x_3|x_2='h')\\sum_{x_4} {p(x_5='b'|x_4)p(x_4|x_3)}}{\\sum_{x_3,x_4} {p(x_5='b'|x_4)p(x_4|x_3)p(x_3|x_2='h')}} $$\n",
    "\n",
    "Proceeding with the same logic : $a____b$\n",
    "$$p(x_i|x_{startInd}='a',x_{endInd}='b')= \\frac{\\sum{x_{unknownsLessThani}} p(x_i|x_{i-1},\\dots,p(x_{startInd+1}|x_{startInd}='a')\\sum_{x_{unknownsGreaterThani}} p(x_{i+1}|x_{i},\\dots,p(x_{endInd}='b'|x_{endInd-1})}{\\sum_{x_{unknowns}} {p(x_{endInd}='b'|x_{endInd-1}) \\dots p(x_{startInd+1}|x_{startInd}='a')}} $$"
   ]
  },
  {
   "cell_type": "code",
   "execution_count": 8,
   "metadata": {
    "collapsed": false
   },
   "outputs": [
    {
     "name": "stdout",
     "output_type": "stream",
     "text": [
      ".th__br__n.f_x. ==> .thumbrwrn.fjx.\n",
      "._u_st__n_.to_be._nsw_r__ ==> .vubstzjnv.toxbe.rnswyrpl\n",
      ".i__at_._a_h_n_._e_r_i_g ==> .icxato.yaihsnr.oeyrcing\n",
      ".q___t.___z._____t.__.___.__. ==> .qvnxt.aauz.xlbdft.iy.csy.bw.\n"
     ]
    }
   ],
   "source": [
    "import csv\n",
    "import numpy as np\n",
    "import functools as fnt\n",
    "from IPython.display import display, Latex\n",
    "\n",
    "def dotProdWCount(i, j):\n",
    "    count = abs(i-j)-1\n",
    "    if count==0:\n",
    "        return arrT\n",
    "    elif count>0:\n",
    "        newArrT = arrT\n",
    "        for k in range(0,count):\n",
    "            newArrT = np.dot(newArrT,arrT)\n",
    "        return newArrT\n",
    "    elif count<0: # only if string finished with an unknown\n",
    "        return 1\n",
    "    \n",
    "alphRange = 27\n",
    "alphabet = [chr(indx+ord('a')) for indx in range(alphRange-1)]\n",
    "alphabet.append('.')\n",
    "letter2idx = {c:ind for ind,c in enumerate(alphabet)}\n",
    "\n",
    "T = []\n",
    "with open('transitions.csv') as csvfile:\n",
    "    reader = csv.reader(csvfile, delimiter=',')\n",
    "    for row in reader:\n",
    "        T.append(row)\n",
    "\n",
    "test_strings = ['th__br__n.f_x.','_u_st__n_.to_be._nsw_r__','i__at_._a_h_n_._e_r_i_g','q___t.___z._____t.__.___.__.']\n",
    "\n",
    "arrT = np.array([[float(y) for y in x] for x in T])\n",
    "\n",
    "for i in range(len(test_strings)):\n",
    "    token = list('.' + test_strings[i])\n",
    "    newToken = ''\n",
    "    for j in range(len(token)):\n",
    "        if token[j] != '_':        \n",
    "            startInd = j # first known character to be based on    \n",
    "            newToken = newToken + token[j]\n",
    "        elif token[j] == '_':            \n",
    "            for k in range(j,len(token)):\n",
    "                if token[k]!='_':\n",
    "                    endInd = k\n",
    "                    break\n",
    "                else:\n",
    "                    endInd = j\n",
    "            #print('j:',j, 'start:',startInd, ' endInd:',endInd)\n",
    "            leftMatrix = dotProdWCount(startInd,j)\n",
    "            rightMatrix = dotProdWCount(j,endInd)\n",
    "            if endInd!=j:\n",
    "                normMatrix = dotProdWCount(startInd,endInd)                   \n",
    "                startIndMatrix = letter2idx[token[startInd]]\n",
    "                endIndMatrix = letter2idx[token[endInd]]\n",
    "                row = leftMatrix[startIndMatrix,:]\n",
    "                column = rightMatrix[:,endIndMatrix]\n",
    "                p = [row*column/normMatrix[startIndMatrix,endIndMatrix]]\n",
    "            else: # finishes with an unknown char\n",
    "                startIndMatrix = letter2idx[token[startInd]]\n",
    "                row = leftMatrix[startIndMatrix,:]\n",
    "                p = [row]            \n",
    "            ch = np.random.choice(alphabet,1, p)\n",
    "            newToken = newToken + ch[0]\n",
    "            \n",
    "    print(''.join(token), '==>', newToken)"
   ]
  },
  {
   "cell_type": "markdown",
   "metadata": {},
   "source": [
    "$3.$ Describe a method for filling in the gaps by estimating the most likely letter for each position. Hint: you need to compute\n",
    "$$\n",
    "x_{-\\alpha}^* = \\arg\\max_{x_{-\\alpha}} p(x_{-\\alpha}|x_{\\alpha})\n",
    "$$\n",
    "Implement the method and print the results for the following test strings along with the log-probability  $\\log p(x_{-\\alpha}^*,x_{\\alpha})$."
   ]
  },
  {
   "cell_type": "code",
   "execution_count": 10,
   "metadata": {
    "collapsed": false
   },
   "outputs": [
    {
     "name": "stdout",
     "output_type": "stream",
     "text": [
      ".th__br__n.f_x. ==> .the.br.an.fex.  log: -3.58382057262\n",
      "._u_st__n_.to_be._nsw_r__ ==> .oursthand.to.be.answere.  log: -11.4410966006\n",
      ".i__at_._a_h_n_._e_r_i_g ==> .in.ath.wathend.he.r.ing  log: -11.818977991\n",
      ".q___t.___z._____t.__.___.__. ==> .qur.t.terz.t....t.ae.t.e.ae.  log: -27.5276801803\n"
     ]
    }
   ],
   "source": [
    "# -*- coding: utf-8 -*-\n",
    "\"\"\"\n",
    "Created on Sun Mar 12 12:25:09 2017\n",
    "\n",
    "@author: sevgi\n",
    "\"\"\"\n",
    "\n",
    "# -*- coding: utf-8 -*-\n",
    "\"\"\"\n",
    "Created on Sat Mar 11 18:55:18 2017\n",
    "\n",
    "@author: sevgi\n",
    "\"\"\"\n",
    "\n",
    "import csv\n",
    "import numpy as np\n",
    "import functools as fnt\n",
    "from IPython.display import display, Latex\n",
    "\n",
    "def dotProdWCount(i, j):\n",
    "    count = abs(i-j)-1\n",
    "    if count==0:\n",
    "        return arrT\n",
    "    elif count>0:\n",
    "        newArrT = arrT\n",
    "        for k in range(0,count):\n",
    "            newArrT = np.dot(newArrT,arrT)\n",
    "        return newArrT\n",
    "    elif count<0: # only if string finished with an unknown\n",
    "        return 1\n",
    "    \n",
    "alphRange = 27\n",
    "alphabet = [chr(indx+ord('a')) for indx in range(alphRange-1)]\n",
    "alphabet.append('.')\n",
    "letter2idx = {c:ind for ind,c in enumerate(alphabet)}\n",
    "\n",
    "T = []\n",
    "with open('transitions.csv') as csvfile:\n",
    "    reader = csv.reader(csvfile, delimiter=',')\n",
    "    for row in reader:\n",
    "        T.append(row)\n",
    "\n",
    "test_strings = ['th__br__n.f_x.','_u_st__n_.to_be._nsw_r__','i__at_._a_h_n_._e_r_i_g','q___t.___z._____t.__.___.__.']\n",
    "\n",
    "arrT = np.array([[float(y) for y in x] for x in T])\n",
    "\n",
    "for i in range(len(test_strings)):\n",
    "    token = list('.' + test_strings[i])\n",
    "    newToken = ''\n",
    "    logProb = 0\n",
    "    for j in range(len(token)):\n",
    "        if token[j] != '_':        \n",
    "            startInd = j # first known character to be based on    \n",
    "            newToken = newToken + token[j]\n",
    "        elif token[j] == '_':            \n",
    "            for k in range(j,len(token)):\n",
    "                if token[k]!='_':\n",
    "                    endInd = k\n",
    "                    break\n",
    "                else:\n",
    "                    endInd = j\n",
    "            #print('j:',j, 'start:',startInd, ' endInd:',endInd)\n",
    "            leftMatrix = dotProdWCount(startInd,j)\n",
    "            rightMatrix = dotProdWCount(j,endInd)\n",
    "            if endInd!=j:\n",
    "                normMatrix = dotProdWCount(startInd,endInd)                   \n",
    "                startIndMatrix = letter2idx[token[startInd]]\n",
    "                endIndMatrix = letter2idx[token[endInd]]\n",
    "                row = leftMatrix[startIndMatrix,:]\n",
    "                column = rightMatrix[:,endIndMatrix]\n",
    "                p = [row*column/normMatrix[startIndMatrix,endIndMatrix]]\n",
    "            else: # finishes with an unknown char\n",
    "                startIndMatrix = letter2idx[token[startInd]]\n",
    "                row = leftMatrix[startIndMatrix,:]\n",
    "                p = [row]                        \n",
    "            mx = max(p[0])\n",
    "            logProb = logProb + np.log(mx)\n",
    "            maxInd = np.where(p[0]==mx)[0]\n",
    "            ch = alphabet[maxInd[0]]\n",
    "            newToken = newToken + ch[0]\n",
    "            \n",
    "    print(''.join(token), '==>', newToken, ' log:',logProb)"
   ]
  },
  {
   "cell_type": "markdown",
   "metadata": {},
   "source": [
    "$4$.Discuss how you can improve the model to get better estimations.\n",
    "\n",
    "Instead of using Markov(1), it can be developed by using Markov(N), which contributes more to the following vertices."
   ]
  }
 ],
 "metadata": {
  "kernelspec": {
   "display_name": "Python 3",
   "language": "python",
   "name": "python3"
  },
  "language_info": {
   "codemirror_mode": {
    "name": "ipython",
    "version": 3
   },
   "file_extension": ".py",
   "mimetype": "text/x-python",
   "name": "python",
   "nbconvert_exporter": "python",
   "pygments_lexer": "ipython3",
   "version": "3.6.0"
  }
 },
 "nbformat": 4,
 "nbformat_minor": 0
}
