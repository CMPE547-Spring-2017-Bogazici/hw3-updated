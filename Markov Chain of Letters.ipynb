{
 "cells": [
  {
   "cell_type": "markdown",
   "metadata": {},
   "source": [
    "Name: [Serdar Metin]\n",
    "\n",
    "I hereby declare that I observed the honour code of the university when preparing the homework."
   ]
  },
  {
   "cell_type": "markdown",
   "metadata": {},
   "source": [
    "## Solution to 16.3-5 and 18\n",
    "\n"
   ]
  },
  {
   "cell_type": "markdown",
   "metadata": {},
   "source": [
    "## Pr?gr?mm?ng?H?m?w?rk 3\n",
    "\n",
    "In this exercise we model a string of text using a Markov(1) model. For simplicity we only consider letters 'a-z'. Capital letters 'A-Z' are mapped to the corresponding ones. All remaining letters, symbols, numbers, including spaces, are denoted by '.'.\n",
    "\n",
    "\n",
    "We have a probability table $T$ where $T_{i,j} = p(x_t = j | x_{t-1} = i)$  transition model of letters in English text for $t=1,2 \\dots N$. Assume that the initial letter in a string is always a space denoted as $x_0 = \\text{'.'}$. Such a model where the probability table is always the same is sometimes called a stationary model.\n",
    "\n",
    "1. For a given $N$, write a program to sample random strings with letters $x_1, x_2, \\dots, x_N$ from $p(x_{1:N}|x_0)$\n",
    "1. Now suppose you are given strings with missing letters, where each missing letter is denoted by a question mark (or underscore, as below). Implement a method, that samples missing letters conditioned on observed ones, i.e., samples from $p(x_{-\\alpha}|x_{\\alpha})$ where $\\alpha$ denotes indices of observed letters. For example, if the input is 't??.', we have $N=4$ and\n",
    "$x_1 = \\text{'t'}$ and $x_4 = \\text{'.'}$, $\\alpha=\\{1,4\\}$ and $-\\alpha=\\{2,3\\}$. Your program may possibly generate the strings 'the.', 'twi.', 'tee.', etc. Hint: make sure to make use all data given and sample from the correct distribution. Implement the method and print the results for the test strings below. \n",
    "1. Describe a method for filling in the gaps by estimating the most likely letter for each position. Hint: you need to compute\n",
    "$$\n",
    "x_{-\\alpha}^* = \\arg\\max_{x_{-\\alpha}} p(x_{-\\alpha}|x_{\\alpha})\n",
    "$$\n",
    "Implement the method and print the results for the following test strings along with the log-probability  $\\log p(x_{-\\alpha}^*,x_{\\alpha})$.\n",
    "1. Discuss how you can improve the model to get better estimations."
   ]
  },
  {
   "cell_type": "code",
   "execution_count": 1,
   "metadata": {
    "collapsed": true
   },
   "outputs": [],
   "source": [
    "test_strings = ['th__br__n.f_x.', '_u_st__n_.to_be._nsw_r__','i__at_._a_h_n_._e_r_i_g','q___t.___z._____t.__.___.__.']"
   ]
  },
  {
   "cell_type": "markdown",
   "metadata": {},
   "source": [
    "Hint: The code below loads a table of transition probabilities for English text."
   ]
  },
  {
   "cell_type": "code",
   "execution_count": 2,
   "metadata": {
    "collapsed": false,
    "scrolled": true
   },
   "outputs": [
    {
     "name": "stdout",
     "output_type": "stream",
     "text": [
      "Example\n"
     ]
    },
    {
     "data": {
      "text/latex": [
       "$p(x_t = \\text{'u'} | x_{t-1} = \\text{'q'})$"
      ],
      "text/plain": [
       "<IPython.core.display.Latex object>"
      ]
     },
     "metadata": {},
     "output_type": "display_data"
    },
    {
     "name": "stdout",
     "output_type": "stream",
     "text": [
      "0.9949749\n"
     ]
    },
    {
     "data": {
      "text/latex": [
       "$p(x_t | x_{t-1} = \\text{'a'})$"
      ],
      "text/plain": [
       "<IPython.core.display.Latex object>"
      ]
     },
     "metadata": {},
     "output_type": "display_data"
    },
    {
     "name": "stdout",
     "output_type": "stream",
     "text": [
      "a 0.0002835\n",
      "b 0.0228302\n",
      "c 0.0369041\n",
      "d 0.0426290\n",
      "e 0.0012216\n",
      "f 0.0075739\n",
      "g 0.0171385\n",
      "h 0.0014659\n",
      "i 0.0372661\n",
      "j 0.0002353\n",
      "k 0.0110124\n",
      "l 0.0778259\n",
      "m 0.0260757\n",
      "n 0.2145354\n",
      "o 0.0005459\n",
      "p 0.0195213\n",
      "q 0.0001749\n",
      "r 0.1104770\n",
      "s 0.0934290\n",
      "t 0.1317960\n",
      "u 0.0098029\n",
      "v 0.0306574\n",
      "w 0.0088799\n",
      "x 0.0009562\n",
      "y 0.0233701\n",
      "z 0.0018701\n",
      ". 0.0715219\n"
     ]
    }
   ],
   "source": [
    "import csv\n",
    "from IPython.display import display, Latex\n",
    "\n",
    "alphabet = [chr(i+ord('a')) for i in range(26)]\n",
    "alphabet.append('.')\n",
    "letter2idx = {c:i for i,c in enumerate(alphabet)}\n",
    "\n",
    "T = []\n",
    "with open('transitions.csv') as csvfile:\n",
    "    reader = csv.reader(csvfile, delimiter=',')\n",
    "    for row in reader:\n",
    "        T.append(row)\n",
    "\n",
    "print('Example')\n",
    "## p(x_t = 'u' | x_{t-1} = 'q')\n",
    "display(Latex(r\"$p(x_t = \\text{'u'} | x_{t-1} = \\text{'q'})$\"))\n",
    "print(T[letter2idx['q']][letter2idx['u']])\n",
    "display(Latex(r\"$p(x_t | x_{t-1} = \\text{'a'})$\"))\n",
    "for c,p in zip(alphabet,T[letter2idx['a']]):\n",
    "    print(c,p)"
   ]
  },
  {
   "cell_type": "markdown",
   "metadata": {},
   "source": [
    "## Question 1\n",
    "\n",
    "We define a function \"randc(pmf)\" which takes a probability mass function as a vector and calculates the corresponding cumulative mass function. By drawing uniformly random from [0,1] interval and finding the corresponding interval in the cmf vector(i.e the minimum value that exceeds the drawn random number), the function returns the index of the random number.\n",
    "\n",
    "$T$ is converted into a numpy array, to be cast into float.\n",
    "\n",
    "In the main loop we start with the stationary distribution (i.e. $x_0 = \\text{'.'}$) and iterate $N$ times to draw with randc. In each iteration the index is converted into the character to be appended to the array, to be appended to the array, and the pmf function is updated with the relevant column in the table $T$."
   ]
  },
  {
   "cell_type": "code",
   "execution_count": 3,
   "metadata": {
    "collapsed": false
   },
   "outputs": [
    {
     "name": "stdout",
     "output_type": "stream",
     "text": [
      "['u', 't', 'h', 'a', 'y', 'o', '.', 'd', 's', 't', '.', 't', 'h', 'e', 'i']\n"
     ]
    }
   ],
   "source": [
    "import numpy as np\n",
    "import csv\n",
    "from IPython.display import display, Latex\n",
    "\n",
    "def randc(pmf):\n",
    "    cmf=np.cumsum(pmf)          # calculate cmf from pmf\n",
    "    draw=np.random.rand()       # draw from [0-1], uniformly\n",
    "    i=0\n",
    "    while cmf[i]<draw:          # find the corresponding letter\n",
    "        i+=1\n",
    "    return i\n",
    "\n",
    "alphabet = [chr(i+ord('a')) for i in range(26)]\n",
    "alphabet.append('.')\n",
    "letter2idx = {c:i for i,c in enumerate(alphabet)}\n",
    "idx2letter = {i:c for i,c in enumerate(alphabet)}         # well ...\n",
    "\n",
    "\n",
    "\n",
    "T = []\n",
    "with open('transitions.csv') as csvfile:\n",
    "    reader = csv.reader(csvfile, delimiter=',')\n",
    "    for row in reader:\n",
    "        T.append(row)\n",
    "        \n",
    "T=np.array(T)\n",
    "T=T.astype(np.float)        # convert string to float\n",
    "\n",
    "\n",
    "## main loop ##\n",
    "\n",
    "N=15\n",
    "\n",
    "randomstring=[]\n",
    "current=26                      # index of the stationary distribution\n",
    "\n",
    "for i in range(N):\n",
    "    current=randc(T[current])\n",
    "    randomstring.append(idx2letter[current])\n",
    "\n",
    "print(randomstring)"
   ]
  },
  {
   "cell_type": "markdown",
   "metadata": {},
   "source": [
    "## Question 2\n",
    "\n",
    "The strategy we use is to isolate the missing letter sequences, and use the immediately adjacent letters in both ends to estimate the first missing letter of the sequence. The process is recursively applied to cover a missing letter sequence, with the newly added letter as the preceeding end of the remaining sequence.\n",
    "\n",
    "The probability mass function of the target letter is conditioned on the joint distribution of the immediately preceeding letter and the final letter of the sequence $$p(x_1|x_0,x_n)$$, in a sequence of $n-2$ missing letters. Because of the Markov quality, the letters out of these boundaries have no effect on the distribution.\n",
    "\n",
    "Depending on the independence assumption for the $x_0$ and $x_n$, we may rewrite: $$p(x_1|x_0)p(x_1|x_n)$$\n",
    "The first term is easily obtained from the table $T$, by fixing the value of $x_0$. For the second term, we have to rewrite the formula as: $$\\frac{p(x_n|x_1)p(x_1)}{p(x_n)}$$ The nominator can be expanded as: $$p(x_2|x_1)p(x_3|x_2)...p(x_n|x_{n-1})$$ Since each conditional probability term can be represented with multiplication with $T$, the term equals $T^n$. Although it is a matri power operation, it is an easy one since the matrix is Markov matrix and guranteed to have full rank and $S \\lambda S^{-1}$ decomposition. Finally, we take the corresponding row for the fixed $x_n$ and normalize it with its own norm to obtain a conditioned probability distribution.\n",
    "\n",
    "We define $\\phi(\\vec v, \\vec u) = \\vec w$, where $$\\vec w_i= \\vec v_i . \\vec u_i$$ and $Z$ as $$Z=||\\vec w ||$$\n",
    "\n",
    "We draw from the resulting distribution represented in $\\vec w$. Below is the code:"
   ]
  },
  {
   "cell_type": "code",
   "execution_count": 191,
   "metadata": {
    "collapsed": false
   },
   "outputs": [
    {
     "name": "stdout",
     "output_type": "stream",
     "text": [
      "the.brnan.fex.\n",
      "oussthand.to.be.answhrde\n",
      "intat..hachent.wegr.isg\n",
      "qurit.terz.ple.ot.be.m.t.pt.\n"
     ]
    }
   ],
   "source": [
    "import numpy as np\n",
    "import csv\n",
    "from IPython.display import display, Latex\n",
    "\n",
    "def randc(pmf):\n",
    "    cmf=np.cumsum(pmf)          # calculate cmf from pmf\n",
    "    draw=np.random.rand()       # draw from [0-1], uniformly\n",
    "    i=0\n",
    "    while cmf[i]<draw:          # find the corresponding letter\n",
    "        i+=1\n",
    "    return i\n",
    "\n",
    "alphabet = [chr(i+ord('a')) for i in range(26)]\n",
    "alphabet.append('.')\n",
    "letter2idx = {c:i for i,c in enumerate(alphabet)}\n",
    "idx2letter = {i:c for i,c in enumerate(alphabet)}         # well ...\n",
    "\n",
    "test_strings = [list('th__br__n.f_x.'),list('_u_st__n_.to_be._nsw_r__'),list('i__at_._a_h_n_._e_r_i_g'),list('q___t.___z._____t.__.___.__.')]\n",
    "\n",
    "T = []\n",
    "with open('transitions.csv') as csvfile:\n",
    "    reader = csv.reader(csvfile, delimiter=',')\n",
    "    for row in reader:\n",
    "        T.append(row)\n",
    "T=np.array(T)\n",
    "T=T.astype(np.float)\n",
    "\n",
    "\n",
    "def choose(begin, end, length):                         # function for finding the target letter\n",
    "    prev=T[begin]\n",
    "    if(length==0):\n",
    "        pmf=prev\n",
    "    else:\n",
    "        nex=np.linalg.matrix_power(T,length).transpose()[end]\n",
    "        pmf=nex*prev\n",
    "        pmf/=np.sum(pmf)\n",
    "    return randc(pmf)\n",
    "\n",
    "def find(i, j):\n",
    "    length=0\n",
    "    while(test_strings[i][j+length]=='_' and j+length<len(test_strings[i])-1):\n",
    "        length+=1\n",
    "    if(j==0):\n",
    "        begin=26\n",
    "    else:\n",
    "        begin=letter2idx[test_strings[i][j-1]]\n",
    "    if(j+length==len(test_strings[i])-1):       \n",
    "        end=26\n",
    "    else:\n",
    "        end=letter2idx[test_strings[i][j+length]]\n",
    "    ch=idx2letter[choose(begin, end, length)]\n",
    "    test_strings[i][j]=ch\n",
    "    return\n",
    "\n",
    "## main loop ##\n",
    "\n",
    "for i, str  in enumerate(test_strings):\n",
    "    for j, ch in enumerate(str):\n",
    "        if(ch == '_'):\n",
    "            find(i, j)\n",
    "for str in test_strings:\n",
    "    print(''.join(str))"
   ]
  },
  {
   "cell_type": "markdown",
   "metadata": {},
   "source": [
    "## Question 3\n",
    "\n",
    "The same procedure is done with taking the maximal element of $\\vec w$"
   ]
  },
  {
   "cell_type": "code",
   "execution_count": 185,
   "metadata": {
    "collapsed": false
   },
   "outputs": [
    {
     "name": "stdout",
     "output_type": "stream",
     "text": [
      "the.br.an.fex.\n",
      "oursthend.to.be.answere.\n",
      "in.ath.wathend.he.r.ing\n",
      "qur.t.thiz.the.at.an.the.an.\n"
     ]
    }
   ],
   "source": [
    "import numpy as np\n",
    "import csv\n",
    "from IPython.display import display, Latex\n",
    "\n",
    "alphabet = [chr(i+ord('a')) for i in range(26)]\n",
    "alphabet.append('.')\n",
    "letter2idx = {c:i for i,c in enumerate(alphabet)}\n",
    "idx2letter = {i:c for i,c in enumerate(alphabet)}         # well ...\n",
    "\n",
    "test_strings = [list('th__br__n.f_x.'),list('_u_st__n_.to_be._nsw_r__'),list('i__at_._a_h_n_._e_r_i_g'),list('q___t.___z._____t.__.___.__.')]\n",
    "\n",
    "T = []\n",
    "with open('transitions.csv') as csvfile:\n",
    "    reader = csv.reader(csvfile, delimiter=',')\n",
    "    for row in reader:\n",
    "        T.append(row)\n",
    "T=np.array(T)\n",
    "T=T.astype(np.float)\n",
    "\n",
    "\n",
    "def choose(begin, end, length):                         # function for finding the target letter\n",
    "    prev=T[begin]\n",
    "    if(length==0):\n",
    "        pmf=prev\n",
    "    else:\n",
    "        nex=np.linalg.matrix_power(T,length).transpose()[end]\n",
    "        pmf=nex*prev\n",
    "        pmf/=np.sum(pmf)\n",
    "    return np.argmax(pmf)\n",
    "\n",
    "def find(i, j):\n",
    "    length=0\n",
    "    while(test_strings[i][j+length]=='_' and j+length<len(test_strings[i])-1):\n",
    "        length+=1\n",
    "    if(j==0):\n",
    "        begin=26\n",
    "    else:\n",
    "        begin=letter2idx[test_strings[i][j-1]]\n",
    "    if(j+length==len(test_strings[i])-1):       \n",
    "        end=26\n",
    "    else:\n",
    "        end=letter2idx[test_strings[i][j+length]]\n",
    "    ch=idx2letter[choose(begin, end, length)]\n",
    "    test_strings[i][j]=ch\n",
    "    return\n",
    "\n",
    "## main loop ##\n",
    "\n",
    "for i, str  in enumerate(test_strings):\n",
    "    for j, ch in enumerate(str):\n",
    "        if(ch == '_'):\n",
    "            find(i, j)\n",
    "for str in test_strings:\n",
    "    print(''.join(str))"
   ]
  },
  {
   "cell_type": "markdown",
   "metadata": {},
   "source": [
    "## Question 4\n",
    "\n",
    "The search process may be started from anywhere of the missing sequence, so instead of in order filling, it is possible to fill the missing letters in another fashion. The first candidate may be a procedure similar to binary search. Namely, the mid point of the missing letter sequence is guessed first and the process is repeated recursively.\n",
    "\n",
    "An alternative model might be a Markov 2 process, where the distribution of the letters are conditioned on not only the immediate predecessors but also to their immediate predecessors also. Unfortunately, the elaboration of the computing process is not guaranteed to yield better results. It is more of a function of the genuine distribution (i.e. how the thing really is distributed)."
   ]
  }
 ],
 "metadata": {
  "kernelspec": {
   "display_name": "Python 3",
   "language": "python",
   "name": "python3"
  },
  "language_info": {
   "codemirror_mode": {
    "name": "ipython",
    "version": 3
   },
   "file_extension": ".py",
   "mimetype": "text/x-python",
   "name": "python",
   "nbconvert_exporter": "python",
   "pygments_lexer": "ipython3",
   "version": "3.5.1"
  }
 },
 "nbformat": 4,
 "nbformat_minor": 0
}
