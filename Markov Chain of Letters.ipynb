{
 "cells": [
  {
   "cell_type": "markdown",
   "metadata": {
    "deletable": true,
    "editable": true
   },
   "source": [
    "# Onur Poyraz 2016705069"
   ]
  },
  {
   "cell_type": "markdown",
   "metadata": {
    "deletable": true,
    "editable": true
   },
   "source": [
    "I hereby declare that I observed the honour code of the university when preparing the homework."
   ]
  },
  {
   "cell_type": "markdown",
   "metadata": {
    "deletable": true,
    "editable": true
   },
   "source": [
    "# Solution to 16.3-5 and 18\n"
   ]
  },
  {
   "cell_type": "markdown",
   "metadata": {
    "deletable": true,
    "editable": true
   },
   "source": [
    "## 16.3"
   ]
  },
  {
   "cell_type": "markdown",
   "metadata": {
    "deletable": true,
    "editable": true
   },
   "source": [
    "We can see that time series follows previous state in usual. However sometimes its change its position and follow that new direction and sometimes it change position and return previous position one step later. So;\n",
    "\n",
    "<img src = '16.3.jpg' align = 'center'>"
   ]
  },
  {
   "cell_type": "markdown",
   "metadata": {
    "deletable": true,
    "editable": true
   },
   "source": [
    "## 16.4"
   ]
  },
  {
   "cell_type": "markdown",
   "metadata": {
    "deletable": true,
    "editable": true
   },
   "source": [
    "The time series goes from \"a\" to \"e\". However at changepoints it returns to \"a\". If it reachs \"e\" it is no longer increase and stays at \"e\". So;\n",
    "\n",
    "<img src = '16.4.jpg' align = 'center'>"
   ]
  },
  {
   "cell_type": "markdown",
   "metadata": {
    "deletable": true,
    "editable": true
   },
   "source": [
    "## 16.5"
   ]
  },
  {
   "cell_type": "markdown",
   "metadata": {
    "deletable": true,
    "editable": true
   },
   "source": [
    "In this part time series takes binary values. If the previous 4 steps took the same value than it change its position. If previous 3 steps took same value it randomly assign the next position. Else it tooks the value of previous steps. Remember that it is looks for previous 4 steps not more. So;\n",
    "\n",
    "<img src = '16.5.jpg' align = 'center'>"
   ]
  },
  {
   "cell_type": "markdown",
   "metadata": {
    "deletable": true,
    "editable": true
   },
   "source": [
    "## 18 "
   ]
  },
  {
   "cell_type": "markdown",
   "metadata": {
    "deletable": true,
    "editable": true
   },
   "source": [
    "### 18.1"
   ]
  },
  {
   "cell_type": "markdown",
   "metadata": {
    "deletable": true,
    "editable": true
   },
   "source": [
    "Here I will plot the corresponding directed graph of given model."
   ]
  },
  {
   "cell_type": "markdown",
   "metadata": {
    "deletable": true,
    "editable": true
   },
   "source": [
    "<img src = '18.1.jpg' align = 'center'>"
   ]
  },
  {
   "cell_type": "markdown",
   "metadata": {
    "deletable": true,
    "editable": true
   },
   "source": [
    "### 18.2"
   ]
  },
  {
   "cell_type": "markdown",
   "metadata": {
    "deletable": true,
    "editable": true
   },
   "source": [
    "Firstly I draw the equivalent undirected graph. In here the new probability is that\n",
    "$$\n",
    "p(X) =\\frac{1}{Z} \\Psi_1(A,T)  \\Psi_2(M,L) \\Psi_3(T,L,F) \\Psi_4(F,X) \\Psi_5(M,L) \\Psi_6(M,B) \\Psi_7(B,F,D)\n",
    "$$"
   ]
  },
  {
   "cell_type": "markdown",
   "metadata": {
    "deletable": true,
    "editable": true
   },
   "source": [
    "<img src = '18.2.1.jpg' align = 'center'>"
   ]
  },
  {
   "cell_type": "markdown",
   "metadata": {
    "deletable": true,
    "editable": true
   },
   "source": [
    "The below one is equivalent factor graph. The probabilities as a factor graph is given by;\n",
    "$$\n",
    "p(X) = f_a(A)  f_m(M) f_t(T,A) f_l(L,M) f_b(B,M) f_f(F,T,L) f_d(D,B,F) f_x(X,F)\n",
    "$$"
   ]
  },
  {
   "cell_type": "markdown",
   "metadata": {
    "deletable": true,
    "editable": true
   },
   "source": [
    "<img src = '18.2.2.jpg' align = 'center'>"
   ]
  },
  {
   "cell_type": "markdown",
   "metadata": {
    "deletable": true,
    "editable": true
   },
   "source": [
    "### 18.3"
   ]
  },
  {
   "cell_type": "markdown",
   "metadata": {
    "deletable": true,
    "editable": true
   },
   "source": [
    "$$P(A) \\rightarrow N-1$$\n",
    "$$P(M) \\rightarrow N-1$$\n",
    "$$P(T|A) \\rightarrow N(N-1)$$\n",
    "$$P(L|M) \\rightarrow N(N-1)$$\n",
    "$$P(B|M) \\rightarrow N(N-1)$$\n",
    "$$P(F|T,L) \\rightarrow N^2(N-1)$$\n",
    "$$P(D|F,B) \\rightarrow N^2(N-1)$$\n",
    "$$P(X|F) \\rightarrow N(N-1)$$\n",
    "\n",
    "Minimum required parametrization is given above for each node. Overall required minimum parametrization is given below as sum of all above;\n",
    "\n",
    "$$P(A)P(M)P(T|A)P(L|M)P(B|M)P(F|T,L)P(D|F,B)P(X|F) \\rightarrow 2(N+1)^2(N-1)^2$$"
   ]
  },
  {
   "cell_type": "markdown",
   "metadata": {
    "deletable": true,
    "editable": true
   },
   "source": [
    "### 18.4 "
   ]
  },
  {
   "cell_type": "markdown",
   "metadata": {
    "deletable": true,
    "editable": true
   },
   "source": [
    "A) True. Because when there is no given node there is no link between A and M. A and M are d-seperated through F.\n",
    "\n",
    "B) False. Because when X is given it is implies F. This means that X and M are no longer D seperated and therefore statement is false.\n",
    "\n",
    "C) False. Again when X is given it is implies F and this situation brokes d-seperation between T and L.\n",
    "\n",
    "D) True. Since F is given there is no longer bridge between L and X.\n",
    "\n",
    "E) False. Since F is not given X and L are no longer independent."
   ]
  },
  {
   "cell_type": "markdown",
   "metadata": {
    "deletable": true,
    "editable": true
   },
   "source": [
    "## Pr?gr?mm?ng?H?m?w?rk 3\n",
    "\n",
    "In this exercise we model a string of text using a Markov(1) model. For simplicity we only consider letters 'a-z'. Capital letters 'A-Z' are mapped to the corresponding ones. All remaining letters, symbols, numbers, including spaces, are denoted by '.'.\n",
    "\n",
    "\n",
    "We have a probability table $T$ where $T_{i,j} = p(x_t = j | x_{t-1} = i)$  transition model of letters in English text for $t=1,2 \\dots N$. Assume that the initial letter in a string is always a space denoted as $x_0 = \\text{'.'}$. Such a model where the probability table is always the same is sometimes called a stationary model.\n",
    "\n",
    "1. For a given $N$, write a program to sample random strings with letters $x_1, x_2, \\dots, x_N$ from $p(x_{1:N}|x_0)$\n",
    "1. Now suppose you are given strings with missing letters, where each missing letter is denoted by a question mark (or underscore, as below). Implement a method, that samples missing letters conditioned on observed ones, i.e., samples from $p(x_{-\\alpha}|x_{\\alpha})$ where $\\alpha$ denotes indices of observed letters. For example, if the input is 't??.', we have $N=4$ and\n",
    "$x_1 = \\text{'t'}$ and $x_4 = \\text{'.'}$, $\\alpha=\\{1,4\\}$ and $-\\alpha=\\{2,3\\}$. Your program may possibly generate the strings 'the.', 'twi.', 'tee.', etc. Hint: make sure to make use all data given and sample from the correct distribution. Implement the method and print the results for the test strings below. \n",
    "1. Describe a method for filling in the gaps by estimating the most likely letter for each position. Hint: you need to compute\n",
    "$$\n",
    "x_{-\\alpha}^* = \\arg\\max_{x_{-\\alpha}} p(x_{-\\alpha}|x_{\\alpha})\n",
    "$$\n",
    "Implement the method and print the results for the following test strings along with the log-probability  $\\log p(x_{-\\alpha}^*,x_{\\alpha})$.\n",
    "1. Discuss how you can improve the model to get better estimations."
   ]
  },
  {
   "cell_type": "code",
   "execution_count": 1,
   "metadata": {
    "collapsed": true,
    "deletable": true,
    "editable": true
   },
   "outputs": [],
   "source": [
    "test_strings = ['th__br__n.f_x.', '_u_st__n_.to_be._nsw_r__','i__at_._a_h_n_._e_r_i_g','q___t.___z._____t.__.___.__.']"
   ]
  },
  {
   "cell_type": "markdown",
   "metadata": {
    "deletable": true,
    "editable": true
   },
   "source": [
    "Hint: The code below loads a table of transition probabilities for English text."
   ]
  },
  {
   "cell_type": "code",
   "execution_count": 2,
   "metadata": {
    "collapsed": false,
    "deletable": true,
    "editable": true,
    "scrolled": true
   },
   "outputs": [
    {
     "name": "stdout",
     "output_type": "stream",
     "text": [
      "Example\n"
     ]
    },
    {
     "data": {
      "text/latex": [
       "$p(x_t = \\text{'u'} | x_{t-1} = \\text{'q'})$"
      ],
      "text/plain": [
       "<IPython.core.display.Latex object>"
      ]
     },
     "metadata": {},
     "output_type": "display_data"
    },
    {
     "name": "stdout",
     "output_type": "stream",
     "text": [
      "0.9949749\n"
     ]
    },
    {
     "data": {
      "text/latex": [
       "$p(x_t | x_{t-1} = \\text{'a'})$"
      ],
      "text/plain": [
       "<IPython.core.display.Latex object>"
      ]
     },
     "metadata": {},
     "output_type": "display_data"
    },
    {
     "name": "stdout",
     "output_type": "stream",
     "text": [
      "('a', '0.0002835')\n",
      "('b', '0.0228302')\n",
      "('c', '0.0369041')\n",
      "('d', '0.0426290')\n",
      "('e', '0.0012216')\n",
      "('f', '0.0075739')\n",
      "('g', '0.0171385')\n",
      "('h', '0.0014659')\n",
      "('i', '0.0372661')\n",
      "('j', '0.0002353')\n",
      "('k', '0.0110124')\n",
      "('l', '0.0778259')\n",
      "('m', '0.0260757')\n",
      "('n', '0.2145354')\n",
      "('o', '0.0005459')\n",
      "('p', '0.0195213')\n",
      "('q', '0.0001749')\n",
      "('r', '0.1104770')\n",
      "('s', '0.0934290')\n",
      "('t', '0.1317960')\n",
      "('u', '0.0098029')\n",
      "('v', '0.0306574')\n",
      "('w', '0.0088799')\n",
      "('x', '0.0009562')\n",
      "('y', '0.0233701')\n",
      "('z', '0.0018701')\n",
      "('.', '0.0715219')\n"
     ]
    }
   ],
   "source": [
    "import csv\n",
    "from IPython.display import display, Latex, Math\n",
    "import numpy as np\n",
    "import matplotlib.pyplot as plt\n",
    "\n",
    "\n",
    "alphabet = [chr(i+ord('a')) for i in range(26)]\n",
    "alphabet.append('.')\n",
    "letter2idx = {c:i for i,c in enumerate(alphabet)}\n",
    "\n",
    "T = []\n",
    "with open('transitions.csv') as csvfile:\n",
    "    reader = csv.reader(csvfile, delimiter=',')\n",
    "    for row in reader:\n",
    "        T.append(row)\n",
    "\n",
    "print('Example')\n",
    "## p(x_t = 'u' | x_{t-1} = 'q')\n",
    "display(Latex(r\"$p(x_t = \\text{'u'} | x_{t-1} = \\text{'q'})$\"))\n",
    "print (T[letter2idx['q']][letter2idx['u']])\n",
    "display(Latex(r\"$p(x_t | x_{t-1} = \\text{'a'})$\"))\n",
    "for c,p in zip(alphabet,T[letter2idx['a']]):\n",
    "    print(c,p)"
   ]
  },
  {
   "cell_type": "markdown",
   "metadata": {
    "deletable": true,
    "editable": true
   },
   "source": [
    "Firstly I took T lists as a matrix Data"
   ]
  },
  {
   "cell_type": "code",
   "execution_count": 3,
   "metadata": {
    "collapsed": false,
    "deletable": true,
    "editable": true
   },
   "outputs": [],
   "source": [
    "Data = np.loadtxt(\"transitions.txt\",dtype=float)"
   ]
  },
  {
   "cell_type": "markdown",
   "metadata": {
    "deletable": true,
    "editable": true
   },
   "source": [
    "## Part 1"
   ]
  },
  {
   "cell_type": "code",
   "execution_count": 4,
   "metadata": {
    "collapsed": false,
    "deletable": true,
    "editable": true
   },
   "outputs": [
    {
     "name": "stdout",
     "output_type": "stream",
     "text": [
      ".ang.donthe.sana.onowis.w.atithi.f.hithud..inghansthejuluns.p.nd.hi.e.ss.wel.bly.en.at.ce.ove.urat.me\n"
     ]
    }
   ],
   "source": [
    "N = 100\n",
    "text='.'\n",
    "\n",
    "for k in range(N):\n",
    "    index=alphabet.index(text[k])\n",
    "    summ = 0\n",
    "    for i in range(len(Data)):\n",
    "        summ =summ + Data[index,i]\n",
    "    output = np.random.choice(alphabet,1, p=Data[index,:]/summ)\n",
    "    text=text+output.tostring()\n",
    "print text"
   ]
  },
  {
   "cell_type": "markdown",
   "metadata": {
    "deletable": true,
    "editable": true
   },
   "source": [
    "## Part 2"
   ]
  },
  {
   "cell_type": "markdown",
   "metadata": {},
   "source": [
    "In the below code I did not use posterior letters. I use them in second one."
   ]
  },
  {
   "cell_type": "code",
   "execution_count": 6,
   "metadata": {
    "collapsed": false,
    "deletable": true,
    "editable": true
   },
   "outputs": [
    {
     "name": "stdout",
     "output_type": "stream",
     "text": [
      ".thspbrken.f.x.\n",
      ".mulsthin..tofbe.inswhrou\n",
      ".iniati.ta.hon..terriing\n",
      ".quint.s..z.nthent.th..ki.s..\n"
     ]
    }
   ],
   "source": [
    "for i in range(len(test_strings)):\n",
    "    text = ''\n",
    "    test = '.'\n",
    "    test = test + test_strings[i]\n",
    "    inp = np.array(list(test))\n",
    "    for j in range(len(inp)):\n",
    "        if inp[j]=='_':\n",
    "            last_letter = text[j-1]\n",
    "            #print last_letter\n",
    "            index=alphabet.index(last_letter)\n",
    "            summ = 0\n",
    "            for k in range(len(Data)):\n",
    "                summ =summ + Data[index,k]\n",
    "            output = np.random.choice(alphabet,1, p=Data[index,:]/summ)\n",
    "        else:\n",
    "            output = inp[j]\n",
    "        text = text+output.tostring()\n",
    "    print text"
   ]
  },
  {
   "cell_type": "code",
   "execution_count": 7,
   "metadata": {
    "collapsed": false,
    "deletable": true,
    "editable": true
   },
   "outputs": [
    {
     "name": "stdout",
     "output_type": "stream",
     "text": [
      ".the.brtin.fex..\n",
      ".tunstound.tombe.answirlo.\n",
      ".in.ate.pathen..repraing.\n",
      ".qun.t.forz.ite.it.nd.aty.ae..\n"
     ]
    }
   ],
   "source": [
    "for i in range(len(test_strings)):\n",
    "    text = ''\n",
    "    test = '.'\n",
    "    test = test + test_strings[i] + test\n",
    "    inp = np.array(list(test))\n",
    "    for j in range(len(inp)):\n",
    "        if inp[j]=='_' and inp[j+1]=='_':\n",
    "            last_letter = text[j-1]\n",
    "            #print last_letter\n",
    "            index=alphabet.index(last_letter)\n",
    "            summ = 0\n",
    "            for k in range(len(Data)):\n",
    "                summ =summ + Data[index,k]\n",
    "            output = np.random.choice(alphabet,1, p=Data[index,:]/summ)\n",
    "        elif inp[j]=='_' and inp[j+1]!='_':\n",
    "            last_letter = text[j-1]\n",
    "            index=alphabet.index(last_letter)\n",
    "            post = test[j+1]\n",
    "            i_post = alphabet.index(post)\n",
    "            new_prob = np.multiply(Data[index,:],Data[:,i_post].T)\n",
    "            summ = 0\n",
    "            for k in range(len(Data)):\n",
    "                summ =summ + new_prob[k]\n",
    "            output = np.random.choice(alphabet,1, p=new_prob/summ)\n",
    "        else:\n",
    "            output = inp[j]\n",
    "        text = text+output.tostring()\n",
    "    print text"
   ]
  },
  {
   "cell_type": "markdown",
   "metadata": {
    "deletable": true,
    "editable": true
   },
   "source": [
    "## Part 3"
   ]
  },
  {
   "cell_type": "code",
   "execution_count": 8,
   "metadata": {
    "collapsed": false,
    "deletable": true,
    "editable": true
   },
   "outputs": [
    {
     "name": "stdout",
     "output_type": "stream",
     "text": [
      ".the.brean.fex..\n",
      ".oursthend.to.be.answered.\n",
      ".in.ath.wathend.he.r.ing.\n",
      ".qur.t.thiz.the.at.th.the.th..\n"
     ]
    }
   ],
   "source": [
    "for i in range(len(test_strings)):\n",
    "    text = ''\n",
    "    test = '.'\n",
    "    test = test + test_strings[i] + test\n",
    "    inp = np.array(list(test))\n",
    "    for j in range(len(inp)):\n",
    "        if inp[j]=='_' and inp[j+1]=='_':\n",
    "            last_letter = text[j-1]\n",
    "            index=alphabet.index(last_letter)\n",
    "            choice = np.argmax(Data[index,:])\n",
    "            output = alphabet[choice]\n",
    "            output = np.array(output)\n",
    "        elif inp[j]=='_' and inp[j+1]!='_':\n",
    "            last_letter = text[j-1]\n",
    "            index=alphabet.index(last_letter)\n",
    "            post = test[j+1]\n",
    "            i_post = alphabet.index(post)\n",
    "            new_prob = np.multiply(Data[index,:],Data[:,i_post].T)\n",
    "            choice = np.argmax(new_prob)\n",
    "            output = alphabet[choice]\n",
    "            output = np.array(output)\n",
    "        else:\n",
    "            output = inp[j]\n",
    "        text = text+output.tostring()\n",
    "    print text"
   ]
  },
  {
   "cell_type": "markdown",
   "metadata": {
    "deletable": true,
    "editable": true
   },
   "source": [
    "## Part 4"
   ]
  },
  {
   "cell_type": "markdown",
   "metadata": {
    "deletable": true,
    "editable": true
   },
   "source": [
    "I made a system which is well worked for one missed letters. However it is not well worked for more missed letters. Actually There could be better estimation algorithms for estimate them. Because I made estimation one by one however if we can update them all syncronously we can take better results."
   ]
  }
 ],
 "metadata": {
  "kernelspec": {
   "display_name": "Python 2",
   "language": "python",
   "name": "python2"
  },
  "language_info": {
   "codemirror_mode": {
    "name": "ipython",
    "version": 2
   },
   "file_extension": ".py",
   "mimetype": "text/x-python",
   "name": "python",
   "nbconvert_exporter": "python",
   "pygments_lexer": "ipython2",
   "version": "2.7.13"
  }
 },
 "nbformat": 4,
 "nbformat_minor": 0
}
