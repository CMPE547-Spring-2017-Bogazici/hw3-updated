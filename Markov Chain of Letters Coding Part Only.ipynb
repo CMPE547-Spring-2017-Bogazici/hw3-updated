{
 "cells": [
  {
   "cell_type": "markdown",
   "metadata": {},
   "source": [
    "Name: Berk Görgülü\n",
    "\n",
    "I hereby declare that I observed the honour code of the university when preparing the homework."
   ]
  },
  {
   "cell_type": "markdown",
   "metadata": {},
   "source": [
    "## Pr?gr?mm?ng?H?m?w?rk 3\n",
    "\n",
    "In this exercise we model a string of text using a Markov(1) model. For simplicity we only consider letters 'a-z'. Capital letters 'A-Z' are mapped to the corresponding ones. All remaining letters, symbols, numbers, including spaces, are denoted by '.'.\n",
    "\n",
    "\n",
    "We have a probability table $T$ where $T_{i,j} = p(x_t = j | x_{t-1} = i)$  transition model of letters in English text for $t=1,2 \\dots N$. Assume that the initial letter in a string is always a space denoted as $x_0 = \\text{'.'}$. Such a model where the probability table is always the same is sometimes called a stationary model.\n",
    "\n",
    "1. For a given $N$, write a program to sample random strings with letters $x_1, x_2, \\dots, x_N$ from $p(x_{1:N}|x_0)$\n",
    "1. Now suppose you are given strings with missing letters, where each missing letter is denoted by a question mark (or underscore, as below). Implement a method, that samples missing letters conditioned on observed ones, i.e., samples from $p(x_{-\\alpha}|x_{\\alpha})$ where $\\alpha$ denotes indices of observed letters. For example, if the input is 't??.', we have $N=4$ and\n",
    "$x_1 = \\text{'t'}$ and $x_4 = \\text{'.'}$, $\\alpha=\\{1,4\\}$ and $-\\alpha=\\{2,3\\}$. Your program may possibly generate the strings 'the.', 'twi.', 'tee.', etc. Hint: make sure to make use all data given and sample from the correct distribution. Implement the method and print the results for the test strings below. \n",
    "1. Describe a method for filling in the gaps by estimating the most likely letter for each position. Hint: you need to compute\n",
    "$$\n",
    "x_{-\\alpha}^* = \\arg\\max_{x_{-\\alpha}} p(x_{-\\alpha}|x_{\\alpha})\n",
    "$$\n",
    "Implement the method and print the results for the following test strings along with the log-probability  $\\log p(x_{-\\alpha}^*,x_{\\alpha})$.\n",
    "1. Discuss how you can improve the model to get better estimations."
   ]
  },
  {
   "cell_type": "code",
   "execution_count": 1,
   "metadata": {
    "collapsed": true
   },
   "outputs": [],
   "source": [
    "test_strings = ['th__br__n.f_x.', '_u_st__n_.to_be._nsw_r__','i__at_._a_h_n_._e_r_i_g','q___t.___z._____t.__.___.__.']"
   ]
  },
  {
   "cell_type": "markdown",
   "metadata": {},
   "source": [
    "Hint: The code below loads a table of transition probabilities for English text."
   ]
  },
  {
   "cell_type": "code",
   "execution_count": 2,
   "metadata": {
    "collapsed": false,
    "scrolled": true
   },
   "outputs": [
    {
     "name": "stdout",
     "output_type": "stream",
     "text": [
      "Example\n"
     ]
    },
    {
     "data": {
      "text/latex": [
       "$p(x_t = \\text{'u'} | x_{t-1} = \\text{'q'})$"
      ],
      "text/plain": [
       "<IPython.core.display.Latex object>"
      ]
     },
     "metadata": {},
     "output_type": "display_data"
    },
    {
     "name": "stdout",
     "output_type": "stream",
     "text": [
      "0.9949749\n"
     ]
    },
    {
     "data": {
      "text/latex": [
       "$p(x_t | x_{t-1} = \\text{'a'})$"
      ],
      "text/plain": [
       "<IPython.core.display.Latex object>"
      ]
     },
     "metadata": {},
     "output_type": "display_data"
    },
    {
     "name": "stdout",
     "output_type": "stream",
     "text": [
      "('a', '0.0002835')\n",
      "('b', '0.0228302')\n",
      "('c', '0.0369041')\n",
      "('d', '0.0426290')\n",
      "('e', '0.0012216')\n",
      "('f', '0.0075739')\n",
      "('g', '0.0171385')\n",
      "('h', '0.0014659')\n",
      "('i', '0.0372661')\n",
      "('j', '0.0002353')\n",
      "('k', '0.0110124')\n",
      "('l', '0.0778259')\n",
      "('m', '0.0260757')\n",
      "('n', '0.2145354')\n",
      "('o', '0.0005459')\n",
      "('p', '0.0195213')\n",
      "('q', '0.0001749')\n",
      "('r', '0.1104770')\n",
      "('s', '0.0934290')\n",
      "('t', '0.1317960')\n",
      "('u', '0.0098029')\n",
      "('v', '0.0306574')\n",
      "('w', '0.0088799')\n",
      "('x', '0.0009562')\n",
      "('y', '0.0233701')\n",
      "('z', '0.0018701')\n",
      "('.', '0.0715219')\n"
     ]
    }
   ],
   "source": [
    "import csv\n",
    "from IPython.display import display, Latex\n",
    "\n",
    "alphabet = [chr(i+ord('a')) for i in range(26)]\n",
    "alphabet.append('.')\n",
    "letter2idx = {c:i for i,c in enumerate(alphabet)}\n",
    "\n",
    "T = []\n",
    "with open('transitions.csv') as csvfile:\n",
    "    reader = csv.reader(csvfile, delimiter=',')\n",
    "    for row in reader:\n",
    "        T.append(row)\n",
    "\n",
    "print('Example')\n",
    "## p(x_t = 'u' | x_{t-1} = 'q')\n",
    "display(Latex(r\"$p(x_t = \\text{'u'} | x_{t-1} = \\text{'q'})$\"))\n",
    "print(T[letter2idx['q']][letter2idx['u']])\n",
    "display(Latex(r\"$p(x_t | x_{t-1} = \\text{'a'})$\"))\n",
    "for c,p in zip(alphabet,T[letter2idx['a']]):\n",
    "    print(c,p)"
   ]
  },
  {
   "cell_type": "markdown",
   "metadata": {
    "collapsed": false
   },
   "source": [
    "### 1. Sampling Random Strings"
   ]
  },
  {
   "cell_type": "code",
   "execution_count": 3,
   "metadata": {
    "collapsed": false
   },
   "outputs": [
    {
     "data": {
      "text/latex": [
       "Sample String Given $S_0$ only"
      ],
      "text/plain": [
       "<IPython.core.display.Latex object>"
      ]
     },
     "metadata": {},
     "output_type": "display_data"
    },
    {
     "name": "stdout",
     "output_type": "stream",
     "text": [
      "m.yyutysufnh.ihrtrtdah..onshislcauid.e..rade.hb.r.fya..htteot.pnvcroalcntgeles.redmopenirt..n.ma.ae.loin.oe.dt..wreeec..lahiecabhh..te.lt..iteandrth.uu..wrg.unarn.itltnifilrso.twft..tiasosotp.ysg.ndmi.a.r..fnnl.btbn.ah.so..lbkhtgentt.imrr.euenodslwghw.s.hene.ot.bnhlhtm.eiea.otsn.enu.od.dreboo..o.n.g.hc.f..adcaonpcrm.o.etnsrrdentl.lohsai.w.sa.u.i.e.tlh.ehblsar.atossl.ivfeiros.ohlidhttevetnwe.r...v.to.oenhlria.thtwihur.ein.nhida.uil.hnrhandi.tulrridishwiy.uv.thacnet.eaiaarieetellis.h.tchs.loeoti.erti.rtnoreagmetgel.o.tttlmso.desphownwah.sm.ureae.ttsmao.e.oivifstkh.eyoanvrpbrfrsoef..c.tn.enciegb.lceai..ednulser.atca.ttlaotdau..b.in.te.eh.hemst..rhnvgmorwa..i.h.erd..leehno.etmepgdafg..r.tscrrlttdn.e.peerrti.thh.nxcmt.nnor..re.enhbc.b.iise.ileto.en.gd.phi.aeii..oi.mxaoiclas.itiao.o.cd.setulee.aelhsimaeetaat.ftcnsi.ib.drtnwhytgc.hltet.l.sssith.sp.o.dapocihcairhossnwx.ce..ao..eaathehw.dapfe.e.naare.hii.ttl.ohitstedouwg.rohtdsde.su.e.onfmfo.o.eehna.eiiweed.cdiea.aama.hkohofnif.r.k..eb.s.s..alt\n"
     ]
    },
    {
     "data": {
      "text/latex": [
       "Sample String Given $S_{i-1}$"
      ],
      "text/plain": [
       "<IPython.core.display.Latex object>"
      ]
     },
     "metadata": {},
     "output_type": "display_data"
    },
    {
     "name": "stdout",
     "output_type": "stream",
     "text": [
      "um.gs.an.mpl.ghis.matin.e.hendre.urimo.ts.g.ay.are.in.tiof.sed.sat.o.d.hanor.ca.on.bet.thoothet.wong.sithapr.tame.mee.ang.h.iphe.cot.anu.offfrteto.pret.wothand.thecce.mis.haf.d.se.thancqur.trk.overesterexorenond..s.afobl.lermpsoed.oandondutofamat.y.mas.mee.d.f.hecer.cind.benchedinjoieristhastee.s.s.aud.s.int.nd.t.he.anuthten.icher.s.bunglatteff.hel..d.ancanchatheesey.parivil.be.cas.aut.s.wepl.he.anththiltoyove.e.juthes.be.ule..ire..comy.ofo.inegrei.wig.omas.hitifin.coshe.stersa.at.sendimstieelantroruche.g.bed..cermorel.f.wntan..ied.van.tr.ietesen.fofo.akndly.f.steay.he.trtson.h.apif.be.anane.ach.derzad.ount..inere..sirshe.cord.by.anly.a.id.utour.ter.t.he...thyoraroonthe.cata.are.s.tite.rcildo.herselovecck.aved.f.t.jat.ary.h.ch..iny.fom.hed.thanceveaberar.eequshithireindas.fery.foleratomingh.belouth.exve.e.ari.twofo.wilelendeas.trr.d.meeserd.an.hut.th.cteds.thincom.wnait.g.pe.an.a..al.met.aldin.s.feseaca.chthese.fise.irarmperechi.tindas.ialorrhrillld.cowonkn.pan.te.cqube..theas.ghanung.\n"
     ]
    }
   ],
   "source": [
    "import numpy as np\n",
    "import math\n",
    "\n",
    "#Sum of the probabilites for some columns are sometimes slightyly more than 1.(ex. 1.0000523)\n",
    "#Normalize function normalizes the probabilities to exactly 1\n",
    "def Normalize(K):\n",
    "    for i in range(len(K)):\n",
    "        temp=map(float,K[i])\n",
    "        K[i] = [float(j)/sum(temp) for j in temp]\n",
    "    return K\n",
    "\n",
    "#Samples from the distribution applying Markov(1) and returns a sequence with given number of letters\n",
    "#sampleString generates letters one by one and takes the last one as given in order to generate the next one\n",
    "\n",
    "def sampleString(N):\n",
    "    s='.'\n",
    "    seq=''\n",
    "    K=Normalize(T)\n",
    "    for n in range(0,N):\n",
    "        probs=K[letter2idx[s]]\n",
    "        s = alphabet[np.random.choice(np.arange(0, 27), p=probs)]\n",
    "        seq=seq+s\n",
    "    return seq\n",
    "\n",
    "#Samples from the distribution applying Markov(1) and returns a sequence with given number of letters\n",
    "#sampleString generates letters takes only the '.' as given and generate each sequence by multiplying the transition probabilities\n",
    "def sampleStringFromInitial(N):\n",
    "    s='.'\n",
    "    seq=''\n",
    "    K=Normalize(T)\n",
    "    TransitionM = np.vstack(K).astype(float)\n",
    "    for n in range(0,N):\n",
    "        seq = seq + alphabet[np.random.choice(np.arange(0, 27), p=TransitionM[letter2idx[s]])]\n",
    "        TransitionM = np.dot(TransitionM,K)\n",
    "    return seq\n",
    "\n",
    "display(Latex(r'Sample String Given $S_0$ only')) \n",
    "print sampleStringFromInitial(1000)\n",
    "\n",
    "\n",
    "display(Latex(r'Sample String Given $S_{i-1}$')) \n",
    "print sampleString(1000)\n",
    "    "
   ]
  },
  {
   "cell_type": "markdown",
   "metadata": {
    "collapsed": true
   },
   "source": [
    "### 2. Fill the Missing Letters by Sampling"
   ]
  },
  {
   "cell_type": "markdown",
   "metadata": {},
   "source": [
    "### 2.1.Model"
   ]
  },
  {
   "cell_type": "markdown",
   "metadata": {},
   "source": [
    "Define all letter sequences as state $S_t$. \n",
    "Since we use Markov(1) model we only need to look at the closest given letters from both sides to fill the missing letters. \n",
    "\n",
    "Assume that $S_i$ is not given and we want to predict $S_i$.\n",
    "$S_l$ is the closest given letter to $S_i$ from left side and $S_r$ is the closest given letter from the right side.\n",
    "\n",
    "Then:\n",
    "\n",
    "If both $S_l$ and $S_r$ exist:\n",
    "\n",
    "$P\\left(S_i\\ |\\ S_l=l,S_r=r\\right) = \\frac{P\\left(S_i,S_l=l,S_r=r\\right)}{P\\left(S_l=l,S_r=r\\right)}$\n",
    "\n",
    "$= \\frac{P\\left(S_l=l\\right)*P\\left(S_i\\ |\\ S_l=l\\right)*P\\left(S_r=r\\ |\\ S_i\\right)}{P\\left(S_r=r\\ |\\ S_l=l\\right)*P\\left(S_l=l\\right)}$\n",
    "\n",
    "$= \\frac{P\\left(S_i\\ |\\ S_l=l\\right)*P\\left(S_r=r\\ |\\ S_i\\right)}{P\\left(S_r=r\\ |\\ S_l=l\\right)}$\n",
    "\n",
    "If only $S_l$ exists:\n",
    "\n",
    "$P\\left(S_i\\ |\\ S_l=l\\right) = \\frac{P\\left(S_i,S_l=l\\right)}{P\\left(S_l=l\\right)}$\n",
    "\n",
    "$= \\frac{P\\left(S_l=l\\right)*P\\left(S_i\\ |\\ S_l=l\\right)}{P\\left(S_l=l\\right)}$\n",
    "\n",
    "$=P\\left(S_i\\ |\\ S_l=l\\right)$\n",
    "\n",
    "Since Markov(1) model is used ,conditional probabilities represented above are calculated by taking the powers of the transition matrix depending on the distance between the indexes of given letters and the indexes of the empty letters.\n",
    "\n",
    "In this part, after calculating the desired probability, sampling is done from the obtained probability distribution."
   ]
  },
  {
   "cell_type": "markdown",
   "metadata": {},
   "source": [
    "### 2.2.Code & Results"
   ]
  },
  {
   "cell_type": "code",
   "execution_count": 5,
   "metadata": {
    "collapsed": false
   },
   "outputs": [
    {
     "name": "stdout",
     "output_type": "stream",
     "text": [
      "Text  1   Sample  1  :  the.brsun.fix.\n",
      "Text  1   Sample  2  :  the.br.an.fix.\n",
      "Text  1   Sample  3  :  the.broun.fex.\n",
      "Text  1   Sample  4  :  the.brtin.fex.\n",
      "Text  1   Sample  5  :  thoubrean.fix.\n",
      "Text  1   Sample  6  :  thy.brken.fex.\n",
      "Text  1   Sample  7  :  thtabr.an.fix.\n",
      "Text  1   Sample  8  :  the.brlin.fex.\n",
      "Text  1   Sample  9  :  the.brown.fex.\n",
      "Text  1   Sample  10  :  tho.brcon.fex.\n",
      "Text  1   Sample  11  :  thtabrken.fex.\n",
      "Text  1   Sample  12  :  thoubrean.fix.\n",
      "Text  1   Sample  13  :  the.brdon.fex.\n",
      "Text  1   Sample  14  :  the.brkin.fix.\n",
      "Text  1   Sample  15  :  the.brean.fex.\n",
      "Text  1   Sample  16  :  the.brron.fox.\n",
      "Text  1   Sample  17  :  the.breen.fex.\n",
      "Text  1   Sample  18  :  the.br.an.fix.\n",
      "Text  1   Sample  19  :  the.br.in.f.x.\n",
      "Text  1   Sample  20  :  the.brien.fex.\n",
      "Text  2   Sample  1  :  tusstriny.to.be.onswore.\n",
      "Text  2   Sample  2  :  aulstheno.tombe.inswore.\n",
      "Text  2   Sample  3  :  ouasthind.to.be.insware.\n",
      "Text  2   Sample  4  :  ouesthend.toube.inswarou\n",
      "Text  2   Sample  5  :  cursti.ns.to.be.inswar.b\n",
      "Text  2   Sample  6  :  oubst.wnn.toube.answares\n",
      "Text  2   Sample  7  :  bulstiond.toube.insworm.\n",
      "Text  2   Sample  8  :  fuasthant.torbe.answorto\n",
      "Text  2   Sample  9  :  ounstaene.tombe.answ.r.c\n",
      "Text  2   Sample  10  :  au.sthang.tombe.answ.rst\n",
      "Text  2   Sample  11  :  mussthunt.to.be.answir.o\n",
      "Text  2   Sample  12  :  juests.nd.to.be.answ.rro\n",
      "Text  2   Sample  13  :  fu.sthin..to.be.inswarmi\n",
      "Text  2   Sample  14  :  cunsthane.toube.inswar.t\n",
      "Text  2   Sample  15  :  outst.ang.to.be..nsweret\n",
      "Text  2   Sample  16  :  auist.ang.toube.wnswire.\n",
      "Text  2   Sample  17  :  bunsthind.toube.answere.\n",
      "Text  2   Sample  18  :  aursthans.to.be.answord.\n",
      "Text  2   Sample  19  :  qugsthond.tobbe.inswer.w\n",
      "Text  2   Sample  20  :  funsthen..to.be.dnswar.b\n",
      "Text  3   Sample  1  :  is.ato.mashenk.pe.r.ing\n",
      "Text  3   Sample  2  :  ithath.lathind.beerling\n",
      "Text  3   Sample  3  :  it.ato.iathind.tear.ing\n",
      "Text  3   Sample  4  :  ichath.faphing.we.r.ing\n",
      "Text  3   Sample  5  :  iveath.washend.bearniag\n",
      "Text  3   Sample  6  :  in.ath.cachand.wear.ing\n",
      "Text  3   Sample  7  :  iorat..jathend.werrding\n",
      "Text  3   Sample  8  :  ittat..hatheng.we.r.ing\n",
      "Text  3   Sample  9  :  itlath.bathens.se.rling\n",
      "Text  3   Sample  10  :  ioratr.baghen..ceeraing\n",
      "Text  3   Sample  11  :  in.aty.laching.ce.rding\n",
      "Text  3   Sample  12  :  imoatt.ta.hind.ve.r.ing\n",
      "Text  3   Sample  13  :  indatu.tathuns..erraidg\n",
      "Text  3   Sample  14  :  in.aty..achany.hepr.ing\n",
      "Text  3   Sample  15  :  istats.pathand.metr.ing\n",
      "Text  3   Sample  16  :  ithath.mathend.he.rving\n",
      "Text  3   Sample  17  :  id.ats.tathind.meor.irg\n",
      "Text  3   Sample  18  :  im.ato.rathond.ce.rcing\n",
      "Text  3   Sample  19  :  iilatr.bathene.merrming\n",
      "Text  3   Sample  20  :  indati.ha.hung.ne.r.ing\n",
      "Text  4   Sample  1  :  qunit.n.tz.bawhat.po.bed.ce.\n",
      "Text  4   Sample  2  :  qusat.berz.he..nt.yo.and.lt.\n",
      "Text  4   Sample  3  :  qut.t.thaz.iske.t.st.t.o.ut.\n",
      "Text  4   Sample  4  :  qurtt.o.iz..who.t.pe.d.t.as.\n",
      "Text  4   Sample  5  :  qutit.minz.t.anat..s..my.he.\n",
      "Text  4   Sample  6  :  qurnt.w.az.dealit.te.m.s.ti.\n",
      "Text  4   Sample  7  :  qurat.durz.thisut..s.wis.t..\n",
      "Text  4   Sample  8  :  qurot.wa.z.want.t.wn.hes.be.\n",
      "Text  4   Sample  9  :  qul.t.perz.t.that.te.h.y.or.\n",
      "Text  4   Sample  10  :  qurut.harz.ins.ft.ha.aly.os.\n",
      "Text  4   Sample  11  :  qut.t..wiz.pa.cot.th.des.is.\n",
      "Text  4   Sample  12  :  quf.t.ke.z..d.bst.tr.ind.ou.\n",
      "Text  4   Sample  13  :  qucat.berz.ntut.t.pr.tho.ab.\n",
      "Text  4   Sample  14  :  qun.t.bouz.cher.t..t.ate.de.\n",
      "Text  4   Sample  15  :  qur.t.m.az.t.oout.in.ini.ak.\n",
      "Text  4   Sample  16  :  qusst.iviz.qube.t.ty.ale.by.\n",
      "Text  4   Sample  17  :  qur.t.ctez.cofrot.s..t.a.gi.\n",
      "Text  4   Sample  18  :  quint..foz.athert.ve.t.w.al.\n",
      "Text  4   Sample  19  :  qugot.cerz.berant.ar.t.d.ot.\n",
      "Text  4   Sample  20  :  qus.t.teaz.dosout.he.hut.cr.\n"
     ]
    }
   ],
   "source": [
    "def findUnknownIndex(st):\n",
    "    unknown=list()\n",
    "    known = list()\n",
    "    for i in range(0,len(st)):\n",
    "        if st[i] is '_' or st[i] is '?' :\n",
    "            unknown.append(i)\n",
    "        else:\n",
    "            known.append(i)\n",
    "    return unknown,known\n",
    "def findNeighbors(k,st):\n",
    "    i=1\n",
    "    sn=None\n",
    "    bn=None\n",
    "    while st[k-i]:\n",
    "        if st[k-i] is not '_' and st[i] is not '?':\n",
    "            sn=k-i\n",
    "            break\n",
    "        i=i+1\n",
    "    i=1\n",
    "    try:\n",
    "        while st[k+i]:\n",
    "            if st[k+i] is not '_' and st[i] is not '?':\n",
    "                bn=k+i\n",
    "                break\n",
    "            i=i+1\n",
    "    except:\n",
    "        bn = None\n",
    "    return sn,bn\n",
    "def predictMissingLetters(st,sample=False):\n",
    "    probMatrix=Normalize(T)\n",
    "    st = '.'+st\n",
    "    unknownIndexes,knownIndexes = findUnknownIndex(st)\n",
    "    p = list()\n",
    "    missingValues=dict()\n",
    "    for k in unknownIndexes:\n",
    "        sn,bn=findNeighbors(k,st)\n",
    "        \n",
    "        if sn is not None and bn is not None:\n",
    "            forward = np.vstack(probMatrix).astype(float)\n",
    "            backward = np.vstack(probMatrix).astype(float)\n",
    "            normalizer = np.vstack(probMatrix).astype(float)\n",
    "            for i in range(1,k-sn):\n",
    "                forward=np.dot(forward,np.vstack(probMatrix).astype(float))\n",
    "            for i in range(1,bn-k):\n",
    "                backward=np.dot(backward,np.vstack(probMatrix).astype(float))\n",
    "            for i in range(1,bn-sn):\n",
    "                normalizer=np.dot(normalizer,np.vstack(probMatrix).astype(float))\n",
    "            bm = backward[:,letter2idx[st[bn]]]\n",
    "            fm = forward[letter2idx[st[sn]],:]\n",
    "            nm = normalizer[letter2idx[st[sn]]][letter2idx[st[bn]]]\n",
    "            predictionProb = np.multiply(bm,fm)/nm\n",
    "            if sample:\n",
    "                st=list(st)\n",
    "                st[k]=alphabet[np.random.choice(np.arange(0, 27), p=predictionProb)]\n",
    "                st=\"\".join(st)\n",
    "            else:\n",
    "                st=list(st)\n",
    "                st[k]=alphabet[predictionProb.tolist().index(max(predictionProb))]\n",
    "                p.append(max(predictionProb))\n",
    "                st=\"\".join(st)\n",
    "        else:\n",
    "            forward = np.vstack(probMatrix).astype(float)\n",
    "            for i in range(1,k-sn):\n",
    "                forward=np.dot(forward,np.vstack(probMatrix).astype(float))\n",
    "            fm = forward[letter2idx[st[sn]],:]\n",
    "            predictionProb = fm\n",
    "            if sample:\n",
    "                st=list(st)\n",
    "                st[k]=alphabet[np.random.choice(np.arange(0, 27), p=predictionProb)]\n",
    "                st=\"\".join(st)\n",
    "            else:\n",
    "                st=list(st)\n",
    "                st[k]=alphabet[predictionProb.tolist().index(max(predictionProb))]\n",
    "                p.append(max(predictionProb))\n",
    "                st=\"\".join(st)\n",
    "    total = 1\n",
    "    for x in p:\n",
    "        total *= x   \n",
    "    return st[1:len(st)],math.log(total)\n",
    "\n",
    "def sampleMissingLetters(st,Ntrial):\n",
    "    for k in st:\n",
    "        for trial in range(0,Ntrial):\n",
    "            print 'Text ',st.index(k)+1,\" \",'Sample ',trial+1,\" : \",predictMissingLetters(k,sample=True)[0]\n",
    "            \n",
    "def predictMostLikelyMissingLetters(st):\n",
    "    for k in st:\n",
    "        txt,probs=predictMissingLetters(k,sample=False)\n",
    "        print 'String: ',txt\n",
    "        print 'Log-Probability: '\n",
    "        print probs\n",
    "sampleMissingLetters(test_strings,20)"
   ]
  },
  {
   "cell_type": "markdown",
   "metadata": {
    "collapsed": true
   },
   "source": [
    "### 3. Fill the Missing Letters By Most Likely Letter"
   ]
  },
  {
   "cell_type": "code",
   "execution_count": 6,
   "metadata": {
    "collapsed": false
   },
   "outputs": [
    {
     "name": "stdout",
     "output_type": "stream",
     "text": [
      "String:  the.br.an.fex.\n",
      "Log-Probability: \n",
      "-3.07433488138\n",
      "String:  oursthend.to.be.answere.\n",
      "Log-Probability: \n",
      "-10.8154510862\n",
      "String:  in.ath.wathend.he.r.ing\n",
      "Log-Probability: \n",
      "-11.6360900332\n",
      "String:  qur.t.thiz.the.at.an.the.an.\n",
      "Log-Probability: \n",
      "-22.9236427638\n"
     ]
    }
   ],
   "source": [
    "predictMostLikelyMissingLetters(test_strings)"
   ]
  },
  {
   "cell_type": "markdown",
   "metadata": {},
   "source": [
    "### 4. How to Improve the Model"
   ]
  },
  {
   "cell_type": "markdown",
   "metadata": {
    "collapsed": false
   },
   "source": [
    "In this model we are using Markov(1) model, this means that we are considering only the closest given letters from both sides. Although it is a very simple approach and efficient to calculate, a letter in a word is also related to the other words in a model. Sequencing of letters in a word is very important feature that should be considered. Therefore using higher order Markov model possibly give better results.\n",
    "Also punctuations and uppercase letters should be implemented in the model. Transition probabilities for punctuations should be added since they also carry significant information in terms of predicting the previous and the next letter. Uppercase letters carry some information too. Begining words of the sentences would change the transition matrix and make it more useful.\n"
   ]
  }
 ],
 "metadata": {
  "anaconda-cloud": {},
  "kernelspec": {
   "display_name": "Python [default]",
   "language": "python",
   "name": "python2"
  },
  "language_info": {
   "codemirror_mode": {
    "name": "ipython",
    "version": 2
   },
   "file_extension": ".py",
   "mimetype": "text/x-python",
   "name": "python",
   "nbconvert_exporter": "python",
   "pygments_lexer": "ipython2",
   "version": "2.7.12"
  }
 },
 "nbformat": 4,
 "nbformat_minor": 0
}
